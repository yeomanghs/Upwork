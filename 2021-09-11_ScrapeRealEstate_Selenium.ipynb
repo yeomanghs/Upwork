{
 "cells": [
  {
   "cell_type": "code",
   "execution_count": null,
   "id": "c6c19e66",
   "metadata": {},
   "outputs": [],
   "source": [
    "Website: https://www.realestate.com.au/buy/in-neutral+bay,+nsw+2089%3b/list-1"
   ]
  },
  {
   "cell_type": "markdown",
   "id": "15814e8f",
   "metadata": {},
   "source": [
    "The script will include entering information including the suburb, and then either buy, sell or rent. It will then output the list of properties which appear from the link, and the relevant information extracted."
   ]
  },
  {
   "cell_type": "markdown",
   "id": "ebd98748",
   "metadata": {},
   "source": [
    "### Import modules"
   ]
  },
  {
   "cell_type": "code",
   "execution_count": 1,
   "id": "cc0e61e4",
   "metadata": {},
   "outputs": [],
   "source": [
    "#check google chrome version:chrome://settings/help\n",
    "#source: https://pypi.org/project/chromedriver-binary/92.0.4515.107.0/\n",
    "import chromedriver_binary\n",
    "import time \n",
    "from selenium.webdriver.support.ui import WebDriverWait\n",
    "from selenium.webdriver.support import expected_conditions as EC\n",
    "from selenium.webdriver.common.by import By\n",
    "from selenium import webdriver\n",
    "from selenium.webdriver.common.action_chains import ActionChains\n",
    "from selenium.webdriver.common.keys import Keys\n",
    "import re"
   ]
  },
  {
   "cell_type": "code",
   "execution_count": 3,
   "id": "bcd82124",
   "metadata": {},
   "outputs": [
    {
     "name": "stderr",
     "output_type": "stream",
     "text": [
      "<ipython-input-3-f1e5b1e57bf4>:11: DeprecationWarning: executable_path has been deprecated, please pass in a Service object\n",
      "  driver = webdriver.Chrome(executable_path = chromedriver_path, options = options, )\n",
      "c:\\users\\jiunshyangoh\\documents\\testenv\\lib\\site-packages\\selenium\\webdriver\\remote\\webdriver.py:483: UserWarning: find_element_by_* commands are deprecated. Please use find_element() instead\n",
      "  warnings.warn(\"find_element_by_* commands are deprecated. Please use find_element() instead\")\n"
     ]
    }
   ],
   "source": [
    "url = 'https://www.realestate.com.au'\n",
    "path_phantom = \"C:/Users/JiunShyanGoh/Desktop/phantomjs/bin/phantomjs.exe\" #install binary file:https://phantomjs.org/download.html\n",
    "chromedriver_path = \"C:/Users/JiunShyanGoh/Documents/Testenv/Lib/site-packages/chromedriver_binary/chromedriver.exe\"\n",
    "\n",
    "options = webdriver.ChromeOptions()\n",
    "# options.add_argument('headless')  \n",
    "options.add_experimental_option(\"excludeSwitches\", [\"enable-automation\"]) #\n",
    "options.add_experimental_option('useAutomationExtension', False)\n",
    "options.add_argument(\"disable-infobars\")\n",
    "# driver = webdriver.PhantomJS(executable_path=path_phantom) #no admin right\n",
    "driver = webdriver.Chrome(executable_path = chromedriver_path, options = options, )\n",
    "driver.get(url)\n",
    "\n",
    "#box to key in search text\n",
    "text = \"Southern Region, QLD\"\n",
    "textBox = driver.find_element_by_xpath(\"//input[@name = 'where']\")\n",
    "textBox.send_keys(text)\n",
    "# textBox.send_keys(Keys.RETURN) #enter\n",
    "\n",
    "#click search button\n",
    "searchButton = driver.find_element_by_xpath(\"//button[@class = 'rui-search-button']\")\n",
    "searchButton.click()"
   ]
  },
  {
   "cell_type": "code",
   "execution_count": null,
   "id": "ede60dd1",
   "metadata": {},
   "outputs": [],
   "source": [
    "import os\n",
    "print(os.environ['PATH'])"
   ]
  },
  {
   "cell_type": "code",
   "execution_count": null,
   "id": "7304ca94",
   "metadata": {},
   "outputs": [],
   "source": []
  }
 ],
 "metadata": {
  "kernelspec": {
   "display_name": "Python 3",
   "language": "python",
   "name": "python3"
  },
  "language_info": {
   "codemirror_mode": {
    "name": "ipython",
    "version": 3
   },
   "file_extension": ".py",
   "mimetype": "text/x-python",
   "name": "python",
   "nbconvert_exporter": "python",
   "pygments_lexer": "ipython3",
   "version": "3.8.5"
  }
 },
 "nbformat": 4,
 "nbformat_minor": 5
}
