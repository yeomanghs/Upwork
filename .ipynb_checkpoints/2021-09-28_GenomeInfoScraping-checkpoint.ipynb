{
 "cells": [
  {
   "cell_type": "code",
   "execution_count": 18,
   "id": "8492e3d5",
   "metadata": {},
   "outputs": [],
   "source": [
    "#check google chrome version:chrome://settings/help\n",
    "#source: https://pypi.org/project/chromedriver-binary/92.0.4515.107.0/\n",
    "import chromedriver_binary\n",
    "import time \n",
    "from selenium.webdriver.support.ui import WebDriverWait\n",
    "from selenium.webdriver.support import expected_conditions as EC\n",
    "from selenium.webdriver.common.by import By\n",
    "from selenium import webdriver\n",
    "from selenium.webdriver.common.action_chains import ActionChains\n",
    "from selenium.webdriver.common.keys import Keys\n",
    "import re\n",
    "import pandas as pd"
   ]
  },
  {
   "cell_type": "code",
   "execution_count": 2,
   "id": "c3c1e17f",
   "metadata": {},
   "outputs": [],
   "source": [
    "url = 'https://genome.ucsc.edu/cgi-bin/hgBlat'\n",
    "chromedriver_path = \"C:/Users/JiunShyanGoh/Documents/Testenv/Lib/site-packages/chromedriver_binary/chromedriver.exe\""
   ]
  },
  {
   "cell_type": "code",
   "execution_count": 8,
   "id": "312b6c77",
   "metadata": {},
   "outputs": [
    {
     "name": "stderr",
     "output_type": "stream",
     "text": [
      "<ipython-input-8-8c66fa920815>:1: DeprecationWarning: executable_path has been deprecated, please pass in a Service object\n",
      "  driver = webdriver.Chrome(executable_path = chromedriver_path)\n"
     ]
    }
   ],
   "source": [
    "driver = webdriver.Chrome(executable_path = chromedriver_path)\n",
    "driver.get(url)\n",
    "\n",
    "#box to key in search text\n",
    "text = \"GGTTTCGCAGATTTTTCCCGACTCTGTAATGTTGGCGGTGCAGGAAGGGATTGACTTACTCACTTTTCCGCCGGCGCCCGGTTCTCCGGAGCCGCCTCACCTTTCCCGGCAGCCCGAGCAGCCGGAGCAGAGAGCCTTGGGTCCGGTTTCTATGCCAAACCTTGTACCGGAGGTGATCGATCTTACCTGCCACGAGGCTTCCACCCAGTGACGACGAGGATGAAGAGGGTGAGGAGTTTGTGTTAGATTATGTGGAGCACCCCGGGCACGGTTGCAGGTCTTGTCATTATCACCGGAGGAATACGGGGGACCCAGATATTATGTGTTCGCTTTGCTATATGAGGACCTGTGGCATGTTTGTCTACA\"\n",
    "textBox = driver.find_element_by_xpath(\"//textarea[@name = 'userSeq']\")\n",
    "textBox.send_keys(text)\n",
    "\n",
    "submitButton = driver.find_element_by_xpath(\"//input[@name = 'Submit']\")\n",
    "submitButton.click()\n",
    "\n",
    "#get info\n",
    "xPath = \"//pre\"\n",
    "#wait until there is any related element\n",
    "wait = WebDriverWait(driver, 20)\n",
    "auto_element = wait.until(EC.visibility_of_element_located((By.XPATH, xPath)))\n",
    "elements = driver.find_elements_by_xpath(xPath)\n",
    "\n",
    "info = [i.get_attribute(\"innerText\") for i in elements]"
   ]
  },
  {
   "cell_type": "code",
   "execution_count": 33,
   "id": "c41ffacb",
   "metadata": {},
   "outputs": [],
   "source": [
    "colList = [\"QUERY\",  \"SCORE\", \"START1\", \"END1\", \"QSIZE\", \"IDENTITY\",  \"CHROM\",  \"STRAND\",  \"START2\", \"END2\", \"SPAN\"]"
   ]
  },
  {
   "cell_type": "code",
   "execution_count": 29,
   "id": "13c6da64",
   "metadata": {},
   "outputs": [
    {
     "data": {
      "text/plain": [
       "[['YourSeq',\n",
       "  '22',\n",
       "  '217',\n",
       "  '243',\n",
       "  '366',\n",
       "  '83.4%',\n",
       "  'chr19',\n",
       "  '-',\n",
       "  '29781113',\n",
       "  '29781137',\n",
       "  '25'],\n",
       " ['YourSeq',\n",
       "  '20',\n",
       "  '145',\n",
       "  '164',\n",
       "  '366',\n",
       "  '100.0%',\n",
       "  'chr8',\n",
       "  '+',\n",
       "  '87026887',\n",
       "  '87026906',\n",
       "  '20']]"
      ]
     },
     "execution_count": 29,
     "metadata": {},
     "output_type": "execute_result"
    }
   ],
   "source": [
    "content = [re.sub(\" +\", \" \", i.strip()) for i in info[0].split(\"\\nbrowser details\") if \"YourSeq\" in i]\n",
    "content = [i.split(' ') for i in content]\n",
    "content"
   ]
  },
  {
   "cell_type": "code",
   "execution_count": 34,
   "id": "146a20bb",
   "metadata": {},
   "outputs": [
    {
     "data": {
      "text/html": [
       "<div>\n",
       "<style scoped>\n",
       "    .dataframe tbody tr th:only-of-type {\n",
       "        vertical-align: middle;\n",
       "    }\n",
       "\n",
       "    .dataframe tbody tr th {\n",
       "        vertical-align: top;\n",
       "    }\n",
       "\n",
       "    .dataframe thead th {\n",
       "        text-align: right;\n",
       "    }\n",
       "</style>\n",
       "<table border=\"1\" class=\"dataframe\">\n",
       "  <thead>\n",
       "    <tr style=\"text-align: right;\">\n",
       "      <th></th>\n",
       "      <th>QUERY</th>\n",
       "      <th>SCORE</th>\n",
       "      <th>START1</th>\n",
       "      <th>END1</th>\n",
       "      <th>QSIZE</th>\n",
       "      <th>IDENTITY</th>\n",
       "      <th>CHROM</th>\n",
       "      <th>STRAND</th>\n",
       "      <th>START2</th>\n",
       "      <th>END2</th>\n",
       "      <th>SPAN</th>\n",
       "    </tr>\n",
       "  </thead>\n",
       "  <tbody>\n",
       "    <tr>\n",
       "      <th>0</th>\n",
       "      <td>YourSeq</td>\n",
       "      <td>22</td>\n",
       "      <td>217</td>\n",
       "      <td>243</td>\n",
       "      <td>366</td>\n",
       "      <td>83.4%</td>\n",
       "      <td>chr19</td>\n",
       "      <td>-</td>\n",
       "      <td>29781113</td>\n",
       "      <td>29781137</td>\n",
       "      <td>25</td>\n",
       "    </tr>\n",
       "    <tr>\n",
       "      <th>1</th>\n",
       "      <td>YourSeq</td>\n",
       "      <td>20</td>\n",
       "      <td>145</td>\n",
       "      <td>164</td>\n",
       "      <td>366</td>\n",
       "      <td>100.0%</td>\n",
       "      <td>chr8</td>\n",
       "      <td>+</td>\n",
       "      <td>87026887</td>\n",
       "      <td>87026906</td>\n",
       "      <td>20</td>\n",
       "    </tr>\n",
       "  </tbody>\n",
       "</table>\n",
       "</div>"
      ],
      "text/plain": [
       "     QUERY SCORE START1 END1 QSIZE IDENTITY  CHROM STRAND    START2      END2  \\\n",
       "0  YourSeq    22    217  243   366    83.4%  chr19      -  29781113  29781137   \n",
       "1  YourSeq    20    145  164   366   100.0%   chr8      +  87026887  87026906   \n",
       "\n",
       "  SPAN  \n",
       "0   25  \n",
       "1   20  "
      ]
     },
     "execution_count": 34,
     "metadata": {},
     "output_type": "execute_result"
    }
   ],
   "source": [
    "df = pd.DataFrame(content, columns = colList)\n",
    "df"
   ]
  },
  {
   "cell_type": "code",
   "execution_count": 47,
   "id": "1bf46dba",
   "metadata": {},
   "outputs": [
    {
     "data": {
      "text/html": [
       "<div>\n",
       "<style scoped>\n",
       "    .dataframe tbody tr th:only-of-type {\n",
       "        vertical-align: middle;\n",
       "    }\n",
       "\n",
       "    .dataframe tbody tr th {\n",
       "        vertical-align: top;\n",
       "    }\n",
       "\n",
       "    .dataframe thead th {\n",
       "        text-align: right;\n",
       "    }\n",
       "</style>\n",
       "<table border=\"1\" class=\"dataframe\">\n",
       "  <thead>\n",
       "    <tr style=\"text-align: right;\">\n",
       "      <th></th>\n",
       "      <th>QUERY</th>\n",
       "      <th>SCORE</th>\n",
       "      <th>START1</th>\n",
       "      <th>END1</th>\n",
       "      <th>QSIZE</th>\n",
       "      <th>IDENTITY</th>\n",
       "      <th>CHROM</th>\n",
       "      <th>STRAND</th>\n",
       "      <th>START2</th>\n",
       "      <th>END2</th>\n",
       "      <th>SPAN</th>\n",
       "    </tr>\n",
       "  </thead>\n",
       "  <tbody>\n",
       "    <tr>\n",
       "      <th>1</th>\n",
       "      <td>YourSeq</td>\n",
       "      <td>20</td>\n",
       "      <td>145</td>\n",
       "      <td>164</td>\n",
       "      <td>366</td>\n",
       "      <td>100.0%</td>\n",
       "      <td>chr8</td>\n",
       "      <td>+</td>\n",
       "      <td>87026887</td>\n",
       "      <td>87026906</td>\n",
       "      <td>20</td>\n",
       "    </tr>\n",
       "  </tbody>\n",
       "</table>\n",
       "</div>"
      ],
      "text/plain": [
       "     QUERY SCORE START1 END1 QSIZE IDENTITY CHROM STRAND    START2      END2  \\\n",
       "1  YourSeq    20    145  164   366   100.0%  chr8      +  87026887  87026906   \n",
       "\n",
       "  SPAN  \n",
       "1   20  "
      ]
     },
     "execution_count": 47,
     "metadata": {},
     "output_type": "execute_result"
    }
   ],
   "source": [
    "#get highest identity\n",
    "maxIdentity = df['IDENTITY'].str.replace(\"%\", \"\").astype(float).max()\n",
    "maxIdentity = str(maxIdentity) + '%'\n",
    "df2 = df.query(\"IDENTITY == @maxIdentity\")\n",
    "df2"
   ]
  }
 ],
 "metadata": {
  "kernelspec": {
   "display_name": "Python 3",
   "language": "python",
   "name": "python3"
  },
  "language_info": {
   "codemirror_mode": {
    "name": "ipython",
    "version": 3
   },
   "file_extension": ".py",
   "mimetype": "text/x-python",
   "name": "python",
   "nbconvert_exporter": "python",
   "pygments_lexer": "ipython3",
   "version": "3.8.5"
  }
 },
 "nbformat": 4,
 "nbformat_minor": 5
}
